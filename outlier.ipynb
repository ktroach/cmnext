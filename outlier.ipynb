{
  "nbformat": 4,
  "nbformat_minor": 0,
  "metadata": {
    "colab": {
      "provenance": [],
      "authorship_tag": "ABX9TyNKN0PIjad6BWoojpR/+0It",
      "include_colab_link": true
    },
    "kernelspec": {
      "name": "python3",
      "display_name": "Python 3"
    },
    "language_info": {
      "name": "python"
    }
  },
  "cells": [
    {
      "cell_type": "markdown",
      "metadata": {
        "id": "view-in-github",
        "colab_type": "text"
      },
      "source": [
        "<a href=\"https://colab.research.google.com/github/ktroach/cmnext/blob/main/outlier.ipynb\" target=\"_parent\"><img src=\"https://colab.research.google.com/assets/colab-badge.svg\" alt=\"Open In Colab\"/></a>"
      ]
    },
    {
      "cell_type": "code",
      "execution_count": 4,
      "metadata": {
        "id": "fWmFbCVQZirj",
        "colab": {
          "base_uri": "https://localhost:8080/"
        },
        "outputId": "e35df731-3227-4932-9417-0e396911ae88"
      },
      "outputs": [
        {
          "output_type": "stream",
          "name": "stdout",
          "text": [
            "[102, 103]\n"
          ]
        }
      ],
      "source": [
        "import numpy as np\n",
        "import matplotlib.pyplot as plt\n",
        "%matplotlib inline\n",
        "\n",
        "dataset = [1,2,3,4,5,6,7,8,9,10,102,103,11,12,13,14,15,16,17,18,19,20,21,23]\n",
        "\n",
        "outliers = []\n",
        "\n",
        "def detect_outliers(data):\n",
        "  threshold=3\n",
        "  mean = np.mean(data)\n",
        "  std = np.std(data)\n",
        "\n",
        "  for i in data:\n",
        "    zed_score = (i - mean) /  std\n",
        "    if np.abs(zed_score) > threshold:\n",
        "        outliers.append(i)\n",
        "\n",
        "  return outliers\n",
        "\n",
        "outlier_point = detect_outliers(dataset)\n",
        "print(outlier_point)\n",
        "\n",
        "\n",
        "\n",
        "\n",
        "\n"
      ]
    }
  ]
}